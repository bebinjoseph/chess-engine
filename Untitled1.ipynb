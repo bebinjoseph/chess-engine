{
 "cells": [
  {
   "cell_type": "code",
   "execution_count": 5,
   "id": "bd28184f-0c9a-4432-bc9c-93c0037bf374",
   "metadata": {},
   "outputs": [],
   "source": [
    "class GameState():\n",
    "    def __init__(self):\n",
    "        self.board=[\n",
    "            ['bR','bN','bB','bQ','bK','bB','bN','bR'],\n",
    "            ['bp','bp','bp','bp','bp','bp','bp','bp'],\n",
    "            ['__','__','__','__','__','__','__','__'],\n",
    "            ['__','__','__','__','__','__','__','__'],\n",
    "            ['__','__','__','__','__','__','__','__'],\n",
    "            ['__','__','__','__','__','__','__','__'],\n",
    "            ['wp','wp','wp','wp','wp','wp','wp','wp'],\n",
    "            ['wR','wN','wB','wQ','wK','wB','wN','wR']\n",
    "        ]\n",
    "        self.whiteToMove= True\n",
    "        self.moveLog=[]\n",
    "        "
   ]
  },
  {
   "cell_type": "code",
   "execution_count": null,
   "id": "0b00c34d-bb8e-4af7-bd0c-de5d711a3c54",
   "metadata": {},
   "outputs": [],
   "source": []
  }
 ],
 "metadata": {
  "kernelspec": {
   "display_name": "Python 3 (ipykernel)",
   "language": "python",
   "name": "python3"
  },
  "language_info": {
   "codemirror_mode": {
    "name": "ipython",
    "version": 3
   },
   "file_extension": ".py",
   "mimetype": "text/x-python",
   "name": "python",
   "nbconvert_exporter": "python",
   "pygments_lexer": "ipython3",
   "version": "3.11.5"
  }
 },
 "nbformat": 4,
 "nbformat_minor": 5
}
