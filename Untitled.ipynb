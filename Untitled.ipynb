{
 "cells": [
  {
   "cell_type": "code",
   "execution_count": 1,
   "id": "d0f960cb-c6d3-4e5b-8b1d-d7a11886b67c",
   "metadata": {},
   "outputs": [
    {
     "name": "stdout",
     "output_type": "stream",
     "text": [
      "pygame 2.5.2 (SDL 2.28.3, Python 3.11.5)\n",
      "Hello from the pygame community. https://www.pygame.org/contribute.html\n"
     ]
    }
   ],
   "source": [
    "import pygame as py\n",
    "#from Chess import ChessEngine\n",
    "width=height=400\n",
    "dimension=8\n",
    "sq_size=height // dimension\n",
    "max_fps=10\n",
    "images = {}\n",
    "class GameState():\n",
    "    def __init__(self):\n",
    "        self.board=[\n",
    "            ['bR','bN','bB','bQ','bK','bB','bN','bR'],\n",
    "            ['bp','bp','bp','bp','bp','bp','bp','bp'],\n",
    "            ['__','__','__','__','__','__','__','__'],\n",
    "            ['__','__','__','__','__','__','__','__'],\n",
    "            ['__','__','__','__','__','__','__','__'],\n",
    "            ['__','__','__','__','__','__','__','__'],\n",
    "            ['wp','wp','wp','wp','wp','wp','wp','wp'],\n",
    "            ['wR','wN','wB','wQ','wK','wB','wN','wR']\n",
    "        ]\n",
    "        self.whiteToMove= True\n",
    "        self.moveLog=[]\n",
    "        \n",
    "def loadImages():\n",
    "    pieces = ['wp','wR','wN','wB','wK','wQ','bp','bR','bN','bB','bK','bQ']\n",
    "    for piece in pieces:\n",
    "        images[piece]=py.transform.scale(py.image.load(\"Images/\" + piece + \".png\"), (sq_size,sq_size))\n",
    "\n",
    "def main():\n",
    "    py.init()\n",
    "    screen= py.display.set_mode((width,height))\n",
    "    screen.fill(py.Color('white'))\n",
    "    gs=GameState()\n",
    "    loadImages()\n",
    "    running=True\n",
    "    while running:\n",
    "        for e in py.event.get():\n",
    "            if e.type==py.QUIT:\n",
    "                running=False\n",
    "        py.display.flip()\n",
    "\n",
    "\n",
    "def drawGameState(screen, gs):\n",
    "    drawBoard(screen)\n",
    "    drawPieces(screen, gs.board)\n",
    "\n",
    "def drawBoard(screen):\n",
    "    colors = [py.Color('white'),py.Color('brown')]\n",
    "    for row in range(dimension):\n",
    "        for col in range(dimension):\n",
    "            color=colors[(row+col)%2]\n",
    "            py.draw.rect(screen,color,py.Rect(col*sq_size,row*sq_size,sq_size,sq_size))\n",
    "            #if (row+col) % 2 == 0:\n",
    "             #   screen[row,col].fill(colors[0])\n",
    "            #else:\n",
    "             #   screen[row,col].fill(colors[1])\n",
    "                \n",
    "                \n",
    "            \n",
    "            \n",
    "\n",
    "def drawPieces(screen):\n",
    "   pass \n",
    "    \n",
    "\n",
    "\n",
    "if __name__==\"__main__\":\n",
    "    main()\n",
    "\n",
    "            \n",
    "\n"
   ]
  },
  {
   "cell_type": "code",
   "execution_count": 1,
   "id": "8ce1b977-63ca-4537-a56b-ebd06ec9770e",
   "metadata": {},
   "outputs": [
    {
     "data": {
      "text/plain": [
       "\"\\nimport pygame as py\\nwidth=height=400\\ndimension=8\\nsq_size=height // dimension\\n\\nscreen1= py.display.set_mode((width,height))\\nscreen1.fill(py.Color('white'))\\n\""
      ]
     },
     "execution_count": 1,
     "metadata": {},
     "output_type": "execute_result"
    }
   ],
   "source": [
    "#for i in range(8):\n",
    "    #print('This is count for i')\n",
    " #   print(i)\n",
    "  #  for j in range(8):\n",
    "       # print(j)\n",
    "   #     if (i+j) % 2 == 0:\n",
    "           # print('Even')\n",
    "    #    else: \n",
    "            #print('Odd')\n",
    "'''\n",
    "import pygame as py\n",
    "width=height=400\n",
    "dimension=8\n",
    "sq_size=height // dimension\n",
    "\n",
    "screen1= py.display.set_mode((width,height))\n",
    "screen1.fill(py.Color('white'))\n",
    "'''"
   ]
  },
  {
   "cell_type": "code",
   "execution_count": 1,
   "id": "4a6a668c-8a89-4e2b-aaa7-14cc1d7a6596",
   "metadata": {},
   "outputs": [
    {
     "ename": "SyntaxError",
     "evalue": "invalid decimal literal (3353945625.py, line 1)",
     "output_type": "error",
     "traceback": [
      "\u001b[0;36m  Cell \u001b[0;32mIn[1], line 1\u001b[0;36m\u001b[0m\n\u001b[0;31m    bebvnob1103=2kr2nr/ppp2ppp/5q2/8/1b1nP3/2NQ1B1P/PPP2PP1/R1B1K2R w KQ - 5 12\u001b[0m\n\u001b[0m                ^\u001b[0m\n\u001b[0;31mSyntaxError\u001b[0m\u001b[0;31m:\u001b[0m invalid decimal literal\n"
     ]
    }
   ],
   "source": [
    "bebvnob1103='2kr2nr/ppp2ppp/5q2/8/1b1nP3/2NQ1B1P/PPP2PP1/R1B1K2R w KQ - 5 12'"
   ]
  },
  {
   "cell_type": "code",
   "execution_count": 2,
   "id": "f365db8e-08d9-43aa-995a-a7e85325277b",
   "metadata": {},
   "outputs": [],
   "source": [
    "from pprint import pprint"
   ]
  },
  {
   "cell_type": "code",
   "execution_count": 3,
   "id": "247bb1d9-07be-430b-ae11-f99b73fcbc68",
   "metadata": {},
   "outputs": [
    {
     "name": "stdout",
     "output_type": "stream",
     "text": [
      "[['--', '--', 'bK', 'bR', '--', '--', 'bN', 'bR'],\n",
      " ['bp', 'bp', 'bp', '--', '--', 'bp', 'bp', 'bp'],\n",
      " ['--', '--', '--', '--', '--', 'bQ', '--', '--'],\n",
      " ['--', '--', '--', '--', '--', '--', '--', '--'],\n",
      " ['--', 'bB', '--', 'bN', 'wp', '--', '--', '--'],\n",
      " ['--', '--', 'wN', 'wQ', '--', 'wB', '--', 'wp'],\n",
      " ['wp', 'wp', 'wp', '--', '--', 'wp', 'wp', '--'],\n",
      " ['wR', '--', 'wB', '--', 'wK', '--', '--', 'wR']]\n"
     ]
    }
   ],
   "source": [
    "fen='2kr2nr/ppp2ppp/5q2/8/1b1nP3/2NQ1B1P/PPP2PP1/R1B1K2R w KQ - 5 12'\n",
    "def fen_to_board(fen):\n",
    "    board = []\n",
    "    for row in fen.split('/'):\n",
    "        brow = []\n",
    "        for c in row:\n",
    "            if c == ' ':\n",
    "                break\n",
    "            elif c in '12345678':\n",
    "                brow.extend( ['--'] * int(c) )\n",
    "            elif c == 'p':\n",
    "                brow.append( 'bp' )\n",
    "            elif c == 'P':\n",
    "                brow.append( 'wp' )\n",
    "            elif c > 'Z':\n",
    "                brow.append( 'b'+c.upper() )\n",
    "            else:\n",
    "                brow.append( 'w'+c )\n",
    "\n",
    "        board.append( brow )\n",
    "    return board\n",
    "\n",
    "#from pprint import pprint\n",
    "pprint( fen_to_board(fen) )"
   ]
  },
  {
   "cell_type": "code",
   "execution_count": null,
   "id": "9b3e364d-3347-4102-b72e-45101d8a7f0e",
   "metadata": {},
   "outputs": [],
   "source": []
  }
 ],
 "metadata": {
  "kernelspec": {
   "display_name": "Python 3 (ipykernel)",
   "language": "python",
   "name": "python3"
  },
  "language_info": {
   "codemirror_mode": {
    "name": "ipython",
    "version": 3
   },
   "file_extension": ".py",
   "mimetype": "text/x-python",
   "name": "python",
   "nbconvert_exporter": "python",
   "pygments_lexer": "ipython3",
   "version": "3.11.5"
  }
 },
 "nbformat": 4,
 "nbformat_minor": 5
}
